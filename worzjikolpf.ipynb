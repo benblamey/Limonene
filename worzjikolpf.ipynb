{
 "cells": [
  {
   "cell_type": "code",
   "execution_count": 1,
   "metadata": {
    "scrolled": false
   },
   "outputs": [],
   "source": [
    "import lumberjack as lj\n",
    "import the_new_hill as ch\n",
    "import os\n",
    "import pandas as pd"
   ]
  },
  {
   "cell_type": "code",
   "execution_count": 2,
   "metadata": {},
   "outputs": [],
   "source": [
    "sortby = ['SLEN', 'PDAT']\n",
    "ncbi_database = ['nuccore', 'protein']\n",
    "my_mail = 'thomas.huber@evobio.eu'\n",
    "my_API_key = '7c7333f5a6fbaac7af1a67a8b70edc19e309'\n",
    "#Entrez.email = my_mail\n",
    "#Entrez.api_key = my_API_key\n",
    "\n",
    "query = 'coi[Gene Name]+bufotes[Organism]+srcdb​_refseq[prop]'\n",
    "query = 'noctuidae[Organism]+srcdb​_refseq[prop]'"
   ]
  },
  {
   "cell_type": "code",
   "execution_count": 3,
   "metadata": {},
   "outputs": [],
   "source": [
    "url = 'https://cipresrest.sdsc.edu/cipresrest/v1'\n",
    "appname = 'treepinkler'\n",
    "appid = 'treepinkler-EE06FD418FD147B99EE41EA2B3B40E4B'\n",
    "username = 'biotomme'\n",
    "password = 'vacc1Niumm'\n",
    "\n",
    "date_name = '2019_12_22'\n",
    "gene_names = ['rpb1', 'rpb2', '28s']\n",
    "taxon_name = 'Boletales'\n",
    "\n",
    "pycipres_access = f'''URL={url}\n",
    "APPNAME={appname}\n",
    "APPID={appid}\n",
    "USERNAME={username}\n",
    "PASSWORD={password}\n",
    "VERBOSE='''"
   ]
  },
  {
   "cell_type": "code",
   "execution_count": 4,
   "metadata": {},
   "outputs": [
    {
     "name": "stdout",
     "output_type": "stream",
     "text": [
      "URL=https://cipresrest.sdsc.edu/cipresrest/v1\n"
     ]
    }
   ],
   "source": [
    "client = ch.wake_up_cipres(pycipres_access, appname, appid, username, password, url)"
   ]
  },
  {
   "cell_type": "code",
   "execution_count": 5,
   "metadata": {},
   "outputs": [
    {
     "name": "stdout",
     "output_type": "stream",
     "text": [
      "/Users/Thomsn/Documents/GitHub/Limonene\n"
     ]
    }
   ],
   "source": [
    "add_seq_choice = 'True'\n",
    "os.chdir('/Users/Thomsn/Documents/GitHub/Limonene')\n",
    "working_dir = os.getcwd()\n",
    "print(working_dir)"
   ]
  },
  {
   "cell_type": "code",
   "execution_count": 6,
   "metadata": {},
   "outputs": [
    {
     "name": "stdout",
     "output_type": "stream",
     "text": [
      "> rpb1: The processed fasta /Users/Thomsn/Documents/GitHub/Limonene/2019_12_22_Boletales_rpb1/Boletales_rpb1_mafft_no_outliers.fasta file was found and used for the alignment.\n",
      "> Alignment for rpb1 was loaded into memory.\n",
      "> rpb2: The processed fasta /Users/Thomsn/Documents/GitHub/Limonene/2019_12_22_Boletales_rpb2/Boletales_rpb2_mafft_no_outliers.fasta file was found and used for the alignment.\n",
      "> Alignment for rpb2 was loaded into memory.\n",
      "> 28s: No processed fasta file was found, therefore the raw file /Users/Thomsn/Documents/GitHub/Limonene/2019_12_22_Boletales_28s/Boletales_28s_mafft/output.mafft used for the alignment.\n",
      "> Alignment for 28s was loaded into memory.\n"
     ]
    }
   ],
   "source": [
    "alignments = ch.spit_aligned(gene_names,\n",
    "                                         working_dir,\n",
    "                                         date_name,\n",
    "                                         taxon_name,\n",
    "                                         ncbi_database)"
   ]
  },
  {
   "cell_type": "raw",
   "metadata": {},
   "source": [
    "with Entrez.esearch(db='nuccore', term=query, retmax=10000, sort='pdat') as handle:\n",
    "    gene_record = Entrez.read(handle)\n"
   ]
  },
  {
   "cell_type": "markdown",
   "metadata": {},
   "source": [
    "## The cipres_approach"
   ]
  },
  {
   "cell_type": "markdown",
   "metadata": {},
   "source": [
    "Do you have additional sequences?"
   ]
  },
  {
   "cell_type": "raw",
   "metadata": {},
   "source": [
    "newpath = f'{datetime.now().strftime(\"%Y_%m_%d\")}_{taxon_query}_{gene_name}'\n",
    "if not os.path.exists(newpath):\n",
    "    os.makedirs('./additional')\n",
    "\n",
    "\n",
    "print(f'For which gene do want you upload additional sequences? Please repeat for multiple genes subsequently.')\n",
    "gene_name = input(f'-->> The genes/proteins for your analysis are: {gene_names}. Please enter the name of the gene/protein, \\\n",
    "for which you want to upload the additional sequence(s).\\n')\n",
    "while gene_name not in gene_names:\n",
    "    gene_name = input(f'Big error! You entered: {gene_name}. This entry is no valid gene/protein \\\n",
    "name. Try again with one of these: {gene_names}.\\n')\n",
    "    \n",
    "\n",
    "from google.colab import files\n",
    "    uploaded = files.upload()\n",
    "    for taxonlist_path in uploaded.keys():\n",
    "        os.rename(taxonlist_path, f'{gene_name}.fasta')\n",
    "        print(f'Upload successful, {taxonlist_path} was uploaded to the directory additional, \\\n",
    "renamed ({gene_name}.fasta) and can be implemented for further analysis.')\n",
    "        "
   ]
  },
  {
   "cell_type": "raw",
   "metadata": {},
   "source": [
    "for gene_name in gene_names:\n",
    "    ch.sequence_additor(add_seq_choice, gene_name, working_dir, date_name, taxon_name, username, my_mail)"
   ]
  },
  {
   "cell_type": "raw",
   "metadata": {},
   "source": [
    "mafft_progress_cipres = pd.DataFrame(ch.the_big_maffti(client = client, \n",
    "                                          gene_names = gene_names, \n",
    "                                          working_dir = working_dir, \n",
    "                                          add_seq_choice = add_seq_choice, \n",
    "                                          date_name = date_name, \n",
    "                                          taxon_name = taxon_name))"
   ]
  },
  {
   "cell_type": "raw",
   "metadata": {},
   "source": [
    "mafft_progress_cipres"
   ]
  },
  {
   "cell_type": "raw",
   "metadata": {},
   "source": [
    "ch.mafft_checker(gene_names,\n",
    "                  mafft_progress_cipres,\n",
    "                  wait_until_finished = True)"
   ]
  },
  {
   "cell_type": "raw",
   "metadata": {},
   "source": [
    "ch.dload_maffto(gene_names,\n",
    "                    working_dir,\n",
    "                    date_name,\n",
    "                    taxon_name,\n",
    "                    mafft_progress_cipres)"
   ]
  },
  {
   "cell_type": "raw",
   "metadata": {},
   "source": [
    "ch.alignoplot(gene_names,\n",
    "               alignments)"
   ]
  },
  {
   "cell_type": "markdown",
   "metadata": {},
   "source": [
    "### Cut the alignment"
   ]
  },
  {
   "cell_type": "code",
   "execution_count": 7,
   "metadata": {},
   "outputs": [],
   "source": [
    "trim_treshold = 50\n",
    "cut_alignment = True"
   ]
  },
  {
   "cell_type": "code",
   "execution_count": 8,
   "metadata": {},
   "outputs": [
    {
     "name": "stdout",
     "output_type": "stream",
     "text": [
      "The alignment was trimmed in the beginning until base 477 and in the end from base 1605. This means at least 50 % of all sequences have a present base there.\n",
      "The alignment was trimmed in the beginning until base 68 and in the end from base 1162. This means at least 50 % of all sequences have a present base there.\n",
      "The alignment was trimmed in the beginning until base 113 and in the end from base 1216. This means at least 50 % of all sequences have a present base there.\n"
     ]
    }
   ],
   "source": [
    "alignmenti = ch.alignmentrimmer(gene_names,\n",
    "                    alignments,\n",
    "                    cut_alignment = True,\n",
    "                    treshold_percentage = trim_treshold)"
   ]
  },
  {
   "cell_type": "code",
   "execution_count": 9,
   "metadata": {},
   "outputs": [
    {
     "name": "stdout",
     "output_type": "stream",
     "text": [
      "WARNING: Please check the alignment also manually, the follow up automated analysis is not bulletproof!\n",
      "WARNING: Please check the alignment also manually, the follow up automated analysis is not bulletproof!\n",
      "WARNING: Please check the alignment also manually, the follow up automated analysis is not bulletproof!\n"
     ]
    },
    {
     "data": {
      "image/png": "[encoded data removed]",
      "text/plain": [
       "<Figure size 432x288 with 1 Axes>"
      ]
     },
     "metadata": {
      "needs_background": "light"
     },
     "output_type": "display_data"
    },
    {
     "data": {
      "image/png": "[encoded data removed]",
      "text/plain": [
       "<Figure size 432x288 with 1 Axes>"
      ]
     },
     "metadata": {
      "needs_background": "light"
     },
     "output_type": "display_data"
    },
    {
     "data": {
      "image/png": "[encoded data removed]",
      "text/plain": [
       "<Figure size 432x288 with 1 Axes>"
      ]
     },
     "metadata": {
      "needs_background": "light"
     },
     "output_type": "display_data"
    }
   ],
   "source": [
    "count_list = ch.alignoplot(gene_names,\n",
    "               alignmenti)"
   ]
  },
  {
   "cell_type": "raw",
   "metadata": {},
   "source": [
    "%matplotlib inline\n",
    "ch.weird_comparison(gene_names,\n",
    "                     alignments,\n",
    "                    working_dir,\n",
    "                     date_name,\n",
    "                     taxon_name,\n",
    "                     count_list,\n",
    "                     percentage = 2,\n",
    "                     quantile_tune = .005)"
   ]
  },
  {
   "cell_type": "raw",
   "metadata": {},
   "source": [
    "%matplotlib notebook"
   ]
  },
  {
   "cell_type": "raw",
   "metadata": {},
   "source": [
    "!pip install adjustText"
   ]
  },
  {
   "cell_type": "raw",
   "metadata": {},
   "source": [
    "!pip install plotly"
   ]
  },
  {
   "cell_type": "raw",
   "metadata": {},
   "source": [
    "ch.visualign(alignments, gene_names, ncbi_database, working_dir, date_name, taxon_name)"
   ]
  },
  {
   "cell_type": "markdown",
   "metadata": {},
   "source": [
    "### Concatenate all genes"
   ]
  },
  {
   "cell_type": "code",
   "execution_count": 10,
   "metadata": {},
   "outputs": [
    {
     "name": "stdout",
     "output_type": "stream",
     "text": [
      "------------------------- rpb1 - rpb2 - 28s -------------------------\n",
      "> The total alignment was produced by concatenating the alignments of the genes rpb1, rpb2, 28s. It was saved as Boletales_rpb1_rpb2_28s_mafft.fasta.\n"
     ]
    }
   ],
   "source": [
    "alignment_cat = ch.concaterpillar(alignments,\n",
    "                   gene_names,\n",
    "                   working_dir,\n",
    "                   date_name,\n",
    "                   taxon_name,\n",
    "                   ncbi_database)"
   ]
  },
  {
   "cell_type": "code",
   "execution_count": 11,
   "metadata": {},
   "outputs": [
    {
     "data": {
      "text/plain": [
       "<<class 'Bio.Align.MultipleSeqAlignment'> instance (478 records of length 4418, ExtendedIUPACDNA()) at 12426f310>"
      ]
     },
     "execution_count": 11,
     "metadata": {},
     "output_type": "execute_result"
    }
   ],
   "source": [
    "alignment_cat"
   ]
  },
  {
   "cell_type": "markdown",
   "metadata": {},
   "source": [
    "### Single gene analyses"
   ]
  },
  {
   "cell_type": "markdown",
   "metadata": {},
   "source": [
    "#### jModeltest"
   ]
  },
  {
   "cell_type": "raw",
   "metadata": {},
   "source": [
    "ch.cipro_jmod(client,\n",
    "               gene_names,\n",
    "               working_dir,\n",
    "               date_name,\n",
    "               taxon_name,\n",
    "               concat_input = False,\n",
    "               information_criterion = 'AIC',\n",
    "               runtime = 5)"
   ]
  },
  {
   "cell_type": "markdown",
   "metadata": {},
   "source": [
    "#### MrBayes"
   ]
  },
  {
   "cell_type": "raw",
   "metadata": {},
   "source": [
    "ch.to_nexus(alignment_cat,\n",
    "             working_dir,\n",
    "             taxon_name,\n",
    "             gene_names,\n",
    "             concat = True)"
   ]
  },
  {
   "cell_type": "raw",
   "metadata": {},
   "source": [
    "ch.to_mrbayes_nexus(alignmenti,\n",
    "                     gene_names,\n",
    "                     working_dir,\n",
    "                     taxon_name,\n",
    "                     mrb_generations = 50000000, \n",
    "                     save_each = 1000, \n",
    "                     burnin = 25000,\n",
    "                     jmod = True,\n",
    "                     concat = True)"
   ]
  },
  {
   "cell_type": "markdown",
   "metadata": {},
   "source": [
    "#### RaxML"
   ]
  },
  {
   "cell_type": "code",
   "execution_count": 12,
   "metadata": {},
   "outputs": [
    {
     "name": "stdout",
     "output_type": "stream",
     "text": [
      "------------------------- rpb1 - rpb2 - 28s -------------------------\n",
      "> The total alignment was produced by concatenating the alignments of the genes rpb1, rpb2, 28s. It was saved as Boletales_rpb1_rpb2_28s_mafft.fasta.\n"
     ]
    },
    {
     "data": {
      "text/plain": [
       "'/Users/Thomsn/Documents/GitHub/Limonene/Boletales_rpb1_rpb2_28s_mafft.phy'"
      ]
     },
     "execution_count": 12,
     "metadata": {},
     "output_type": "execute_result"
    }
   ],
   "source": [
    "ch.to_phylip(alignmenti,\n",
    "             working_dir,\n",
    "             taxon_name,\n",
    "             gene_names,\n",
    "             date_name,\n",
    "             ncbi_database,\n",
    "             concat = True)"
   ]
  },
  {
   "cell_type": "markdown",
   "metadata": {},
   "source": [
    "## RaxML does currently not work because the phy file does only contain the first gene, but the partitionfile all of the data..."
   ]
  },
  {
   "cell_type": "code",
   "execution_count": 13,
   "metadata": {},
   "outputs": [
    {
     "name": "stdout",
     "output_type": "stream",
     "text": [
      "URL=https://cipresrest.sdsc.edu/cipresrest/v1\n",
      "Job=NGBW-JOB-RAXMLHPC8_REST_XSEDE-FC0199960DD0469E83CF2332F6E5DD38, not finished, stage=QUEUE\n",
      "\t2020-03-21T10:49:34-07:00: Added to run queue.\n",
      "Metadata:\n",
      "\tstatusEmail=true\n"
     ]
    },
    {
     "data": {
      "text/plain": [
       "<python_cipres.client.JobStatus at 0x12367de90>"
      ]
     },
     "execution_count": 13,
     "metadata": {},
     "output_type": "execute_result"
    }
   ],
   "source": [
    "ch.cipro_rax(client,\n",
    "                gene_names,\n",
    "                working_dir,\n",
    "                taxon_name,\n",
    "                date_name,\n",
    "                ncbi_database,\n",
    "                runtime = 48,\n",
    "                concat = True)"
   ]
  },
  {
   "cell_type": "code",
   "execution_count": 15,
   "metadata": {},
   "outputs": [],
   "source": [
    "handle = 'NGBW-JOB-RAXMLHPC8_REST_XSEDE-FC0199960DD0469E83CF2332F6E5DD38'\n",
    "job = client.getJobStatus(handle)"
   ]
  },
  {
   "cell_type": "code",
   "execution_count": 17,
   "metadata": {},
   "outputs": [
    {
     "name": "stdout",
     "output_type": "stream",
     "text": [
      ">> Directory /Users/Thomsn/Documents/GitHub/Limonene/Boletales_rpb1_rpb2_28s_raxml_out was created.\n"
     ]
    }
   ],
   "source": [
    "jmod_dir = f'{working_dir}/{taxon_name}_{\"_\".join(gene_names)}_raxml_out'\n",
    "if job.terminalStage:\n",
    "    if not os.path.exists(jmod_dir):\n",
    "        os.makedirs(jmod_dir)\n",
    "        print(f'>> Directory {jmod_dir} was created.')\n",
    "    job.downloadResults(directory=jmod_dir)"
   ]
  },
  {
   "cell_type": "code",
   "execution_count": null,
   "metadata": {},
   "outputs": [],
   "source": []
  }
 ],
 "metadata": {
  "kernelspec": {
   "display_name": "Python 3",
   "language": "python",
   "name": "python3"
  },
  "language_info": {
   "codemirror_mode": {
    "name": "ipython",
    "version": 3
   },
   "file_extension": ".py",
   "mimetype": "text/x-python",
   "name": "python",
   "nbconvert_exporter": "python",
   "pygments_lexer": "ipython3",
   "version": "3.7.6"
  }
 },
 "nbformat": 4,
 "nbformat_minor": 4
}
